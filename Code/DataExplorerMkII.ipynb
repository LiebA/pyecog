{
 "cells": [
  {
   "cell_type": "markdown",
   "metadata": {},
   "source": []
  },
  {
   "cell_type": "code",
   "execution_count": 1,
   "metadata": {
    "collapsed": true
   },
   "outputs": [],
   "source": [
    "#%matplotlib inline\n",
    "import matplotlib\n",
    "import matplotlib.pyplot as plt\n",
    "import numpy as np\n",
    "import mpld3\n",
    "import pandas as pd\n",
    "from mpld3 import plugins, utils"
   ]
  },
  {
   "cell_type": "code",
   "execution_count": 2,
   "metadata": {
    "collapsed": false
   },
   "outputs": [
    {
     "name": "stdout",
     "output_type": "stream",
     "text": [
      "here2\n"
     ]
    },
    {
     "data": {
      "text/html": [
       "<div style=\"max-height:1000px;max-width:1500px;overflow:auto;\">\n",
       "<table border=\"1\" class=\"dataframe\">\n",
       "  <thead>\n",
       "    <tr style=\"text-align: right;\">\n",
       "      <th></th>\n",
       "      <th>kurtosis</th>\n",
       "      <th>skew</th>\n",
       "      <th>variation</th>\n",
       "      <th>coastline</th>\n",
       "      <th>Network States</th>\n",
       "    </tr>\n",
       "  </thead>\n",
       "  <tbody>\n",
       "    <tr>\n",
       "      <th>0</th>\n",
       "      <td>-0.542558</td>\n",
       "      <td> 0.337107</td>\n",
       "      <td> 0.063229</td>\n",
       "      <td> 3.098953</td>\n",
       "      <td> 1</td>\n",
       "    </tr>\n",
       "    <tr>\n",
       "      <th>1</th>\n",
       "      <td>-0.260755</td>\n",
       "      <td> 0.169943</td>\n",
       "      <td> 0.062122</td>\n",
       "      <td> 2.884836</td>\n",
       "      <td> 1</td>\n",
       "    </tr>\n",
       "    <tr>\n",
       "      <th>2</th>\n",
       "      <td>-0.396218</td>\n",
       "      <td> 0.633222</td>\n",
       "      <td> 0.066291</td>\n",
       "      <td> 2.843310</td>\n",
       "      <td> 1</td>\n",
       "    </tr>\n",
       "    <tr>\n",
       "      <th>3</th>\n",
       "      <td>-0.388754</td>\n",
       "      <td> 0.545688</td>\n",
       "      <td> 0.067628</td>\n",
       "      <td> 2.973771</td>\n",
       "      <td> 1</td>\n",
       "    </tr>\n",
       "    <tr>\n",
       "      <th>4</th>\n",
       "      <td>-0.432193</td>\n",
       "      <td> 0.610482</td>\n",
       "      <td> 0.079571</td>\n",
       "      <td> 2.759590</td>\n",
       "      <td> 1</td>\n",
       "    </tr>\n",
       "  </tbody>\n",
       "</table>\n",
       "</div>"
      ],
      "text/plain": [
       "   kurtosis      skew  variation  coastline  Network States\n",
       "0 -0.542558  0.337107   0.063229   3.098953               1\n",
       "1 -0.260755  0.169943   0.062122   2.884836               1\n",
       "2 -0.396218  0.633222   0.066291   2.843310               1\n",
       "3 -0.388754  0.545688   0.067628   2.973771               1\n",
       "4 -0.432193  0.610482   0.079571   2.759590               1"
      ]
     },
     "execution_count": 2,
     "metadata": {},
     "output_type": "execute_result"
    }
   ],
   "source": [
    "# Basic script to run network state classfication\n",
    "from loadSeizureData  import LoadSeizureData\n",
    "from classifierTester import ClassifierTester\n",
    "from basicFeatures    import BasicFeatures\n",
    "from randomForestClassifier import RandomForest\n",
    "from freqfeatures     import FreqFeatures\n",
    "\n",
    "dirpath = '/Users/Jonathan/Documents/PhD /Seizure_related/Network_states/VMData/Classified'\n",
    "dataobj = LoadSeizureData(dirpath)\n",
    "dataobj.load_data()\n",
    "basicStatsExtractor = BasicFeatures()\n",
    "dataobj.extract_feature_array([basicStatsExtractor])\n",
    "\n",
    "\n",
    "df = pd.DataFrame(dataobj.features, columns = ['kurtosis','skew','variation','coastline'])\n",
    "df['Network States'] = dataobj.label_colarray\n",
    "df.head()"
   ]
  },
  {
   "cell_type": "code",
   "execution_count": null,
   "metadata": {
    "collapsed": false
   },
   "outputs": [],
   "source": [
    "fig = plt.figure()\n",
    "ax = fig.add_subplot(111)\n",
    "ax.plot(np.random.rand(10))\n",
    "\n",
    "def onclick(event):\n",
    "    print 'button=%d, x=%d, y=%d, xdata=%f, ydata=%f'%(\n",
    "        event.button, event.x, event.y, event.xdata, event.ydata)\n",
    "\n",
    "cid = fig.canvas.mpl_connect('button_press_event', onclick)\n",
    "plt.show()"
   ]
  },
  {
   "cell_type": "code",
   "execution_count": null,
   "metadata": {
    "collapsed": true
   },
   "outputs": [],
   "source": []
  },
  {
   "cell_type": "code",
   "execution_count": 5,
   "metadata": {
    "collapsed": true
   },
   "outputs": [],
   "source": [
    "fig.canvas.mpl_disconnect(cid)"
   ]
  },
  {
   "cell_type": "code",
   "execution_count": null,
   "metadata": {
    "collapsed": true
   },
   "outputs": [],
   "source": []
  }
 ],
 "metadata": {
  "kernelspec": {
   "display_name": "Python 2",
   "language": "python",
   "name": "python2"
  },
  "language_info": {
   "codemirror_mode": {
    "name": "ipython",
    "version": 2
   },
   "file_extension": ".py",
   "mimetype": "text/x-python",
   "name": "python",
   "nbconvert_exporter": "python",
   "pygments_lexer": "ipython2",
   "version": "2.7.9"
  }
 },
 "nbformat": 4,
 "nbformat_minor": 0
}
